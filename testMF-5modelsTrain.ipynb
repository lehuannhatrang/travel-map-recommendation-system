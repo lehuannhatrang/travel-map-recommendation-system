{
 "cells": [
  {
   "cell_type": "code",
   "execution_count": 56,
   "metadata": {},
   "outputs": [],
   "source": [
    "import pandas as pd \n",
    "import numpy as np\n",
    "import pickle\n",
    "import os\n",
    "\n",
    "import datetime\n",
    "\n",
    "from scipy import sparse \n",
    "from operator import itemgetter\n",
    "from math import * \n",
    "\n",
    "import pymongo\n",
    "local_mongo = pymongo.MongoClient(\"mongodb://localhost:27017/\")\n",
    "guidy_db = local_mongo[\"guidy\"]\n",
    "place_rating_collections = guidy_db[\"user_rating\"]\n",
    "\n",
    "\n",
    "res_data = []\n",
    "for row in place_rating_collections.find({\"type\": \"RESTAURANT\"}):\n",
    "    data = [row['User_Id'], row['Place_Id'], row['Rating'], row['Rating_Space'], row['Rating_Location'], row['Rating_Quality'], row['Rating_Service'], row['Rating_Price'], row['TotalLike']]\n",
    "    res_data.append(data)\n",
    "\n"
   ]
  },
  {
   "cell_type": "code",
   "execution_count": 57,
   "metadata": {},
   "outputs": [],
   "source": [
    "res_data = np.array(res_data)"
   ]
  },
  {
   "cell_type": "code",
   "execution_count": 13,
   "metadata": {},
   "outputs": [],
   "source": [
    "time_period = []\n",
    "for row in place_rating_collections.find({\"type\": \"RESTAURANT\"}):\n",
    "    data = [row['TimeStamp']]\n",
    "    time_period.append(data)"
   ]
  },
  {
   "cell_type": "code",
   "execution_count": 55,
   "metadata": {
    "scrolled": true
   },
   "outputs": [
    {
     "data": {
      "text/plain": [
       "array([1.94069380e+07, 7.65331000e+05, 1.00000000e+01, 1.00000000e+01,\n",
       "       1.00000000e+01, 1.00000000e+01, 1.00000000e+01, 1.00000000e+01,\n",
       "       0.00000000e+00, 1.58402292e+09])"
      ]
     },
     "execution_count": 55,
     "metadata": {},
     "output_type": "execute_result"
    }
   ],
   "source": [
    "restaurant_data[0]"
   ]
  },
  {
   "cell_type": "code",
   "execution_count": 23,
   "metadata": {},
   "outputs": [
    {
     "name": "stderr",
     "output_type": "stream",
     "text": [
      "/home/yntn/anaconda3/lib/python3.7/site-packages/ipykernel_launcher.py:3: DeprecationWarning: parsing timezone aware datetimes is deprecated; this will raise an error in the future\n",
      "  This is separate from the ipykernel package so we can avoid doing imports until\n"
     ]
    }
   ],
   "source": [
    "go = []\n",
    "for i in range (len(time_period)):\n",
    "    go.append((np.datetime64(time_period[i][0]) - np.datetime64('1970-01-01T00:00:00Z')) / np.timedelta64(1, 's'))"
   ]
  },
  {
   "cell_type": "code",
   "execution_count": 58,
   "metadata": {},
   "outputs": [],
   "source": [
    "restaurant_data = np.c_[res_data, np.array(go)]"
   ]
  },
  {
   "cell_type": "code",
   "execution_count": 59,
   "metadata": {},
   "outputs": [
    {
     "data": {
      "text/plain": [
       "array([[1.94069380e+07, 7.65331000e+05, 1.00000000e+01, ...,\n",
       "        1.00000000e+01, 0.00000000e+00, 1.58402292e+09],\n",
       "       [9.31753600e+06, 7.65331000e+05, 8.00000000e+00, ...,\n",
       "        8.00000000e+00, 6.00000000e+00, 1.58204735e+09],\n",
       "       [1.32633700e+06, 7.68300000e+05, 7.40000000e+00, ...,\n",
       "        7.00000000e+00, 0.00000000e+00, 1.54574786e+09],\n",
       "       ...,\n",
       "       [2.80640000e+04, 6.98934000e+05, 9.00000000e+00, ...,\n",
       "        1.00000000e+01, 0.00000000e+00, 1.56310575e+09],\n",
       "       [1.80586700e+06, 6.98934000e+05, 8.40000000e+00, ...,\n",
       "        8.00000000e+00, 1.00000000e+00, 1.56326492e+09],\n",
       "       [2.27152000e+05, 6.98934000e+05, 1.00000000e+00, ...,\n",
       "        1.00000000e+00, 0.00000000e+00, 1.58400163e+09]])"
      ]
     },
     "execution_count": 59,
     "metadata": {},
     "output_type": "execute_result"
    }
   ],
   "source": [
    "restaurant_data"
   ]
  },
  {
   "cell_type": "code",
   "execution_count": 46,
   "metadata": {},
   "outputs": [],
   "source": [
    "userId = list(set(restaurant_data[:,0]))\n",
    "userId.sort()\n",
    "mapUserId  = {}\n",
    "for i, value in enumerate(userId):\n",
    "    mapUserId[value] = i\n",
    "\n",
    "placeId = list(set(restaurant_data[:,1]))\n",
    "placeId.sort()\n",
    "mapPlaceId  = {}\n",
    "for i, value in enumerate(placeId):\n",
    "    mapPlaceId[value] = i"
   ]
  },
  {
   "cell_type": "code",
   "execution_count": 47,
   "metadata": {},
   "outputs": [],
   "source": [
    "for i in range(len(restaurant_data[:,0])):\n",
    "    restaurant_data[i][0] = mapUserId[restaurant_data [i][0]]\n",
    "for i in range(len(restaurant_data[:,1])):\n",
    "    restaurant_data[i][1] = mapPlaceId[restaurant_data [i][1]]\n",
    "\n",
    "tmp_based_copy = restaurant_data\n",
    "\n",
    "tmp_based_copy = tmp_based_copy[tmp_based_copy[:,0].argsort()] # sort theo  user_id\n",
    "based_train = []\n",
    "based_test = []\n",
    "_usersId = (tmp_based_copy[:, 0]).astype(np.int32)\n",
    "\n",
    "for i in range((max(tmp_based_copy[:,0])).astype(int)):  \n",
    "    _ids = np.where(_usersId == i)[0].astype(np.int32)\n",
    "    if (len(_ids) > 4):\n",
    "        arr = tmp_based_copy[_ids]\n",
    "        arr = arr[np.argsort(arr[:, 8])]\n",
    "        _down = floor(len(arr)*0.2)\n",
    "        _up = len(arr)\n",
    "        X_train_test = np.split(arr.tolist(), [_down, _up])\n",
    "        ts = max (X_train_test[1][:,8])\n",
    "        for j in range (len(X_train_test[1])):\n",
    "            X_train_test[1][j,8] = (ts - X_train_test[1][j,8]) / 86400 / 90\n",
    "\n",
    "        based_test += X_train_test[0].tolist()\n",
    "        based_train += X_train_test[1].tolist()\n",
    "    \n",
    "based_train = np.array(based_train)\n",
    "based_test = np.array(based_test)"
   ]
  },
  {
   "cell_type": "code",
   "execution_count": 48,
   "metadata": {},
   "outputs": [
    {
     "data": {
      "text/plain": [
       "array([0.00000000e+00, 3.02100000e+03, 8.40000000e+00, 9.00000000e+00,\n",
       "       6.00000000e+00, 9.00000000e+00, 8.00000000e+00, 1.00000000e+01,\n",
       "       0.00000000e+00, 1.40003619e+09])"
      ]
     },
     "execution_count": 48,
     "metadata": {},
     "output_type": "execute_result"
    }
   ],
   "source": [
    "tmp_based_copy[0]"
   ]
  },
  {
   "cell_type": "code",
   "execution_count": null,
   "metadata": {},
   "outputs": [],
   "source": []
  }
 ],
 "metadata": {
  "kernelspec": {
   "display_name": "Python 3.7.4 64-bit ('base': conda)",
   "language": "python",
   "name": "python37464bitbaseconda239fb0daafe946049a653e7d9ffd4049"
  },
  "language_info": {
   "codemirror_mode": {
    "name": "ipython",
    "version": 3
   },
   "file_extension": ".py",
   "mimetype": "text/x-python",
   "name": "python",
   "nbconvert_exporter": "python",
   "pygments_lexer": "ipython3",
   "version": "3.7.4"
  }
 },
 "nbformat": 4,
 "nbformat_minor": 2
}
